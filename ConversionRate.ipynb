{
 "cells": [
  {
   "cell_type": "markdown",
   "metadata": {},
   "source": [
    "# Conversion Rate Project ~~ Uma Rajagopalan"
   ]
  },
  {
   "cell_type": "markdown",
   "metadata": {},
   "source": [
    "#### Every code begins with some import statements"
   ]
  },
  {
   "cell_type": "code",
   "execution_count": 1,
   "metadata": {},
   "outputs": [],
   "source": [
    "#Import statements:\n",
    "\n",
    "import pandas as pd\n",
    "import numpy as np\n",
    "import matplotlib.pyplot as plt\n",
    "import seaborn as sns\n",
    "\n",
    "#For Random Forest - Prediction\n",
    "from sklearn.ensemble import RandomForestClassifier\n",
    "\n",
    "#Confusion matrix\n",
    "from sklearn.metrics import confusion_matrix\n",
    "from sklearn.model_selection import train_test_split\n",
    "\n",
    "#Decision Tree - Interpretation\n",
    "from sklearn.tree import DecisionTreeClassifier \n",
    "from sklearn.model_selection import cross_val_score\n",
    "\n",
    "#Partial Dependency plot\n",
    "from sklearn.inspection import PartialDependenceDisplay\n",
    "\n",
    "%matplotlib inline"
   ]
  },
  {
   "cell_type": "markdown",
   "metadata": {},
   "source": [
    "#### Importing the dataset"
   ]
  },
  {
   "cell_type": "code",
   "execution_count": 2,
   "metadata": {},
   "outputs": [
    {
     "data": {
      "text/html": [
       "<div>\n",
       "<style scoped>\n",
       "    .dataframe tbody tr th:only-of-type {\n",
       "        vertical-align: middle;\n",
       "    }\n",
       "\n",
       "    .dataframe tbody tr th {\n",
       "        vertical-align: top;\n",
       "    }\n",
       "\n",
       "    .dataframe thead th {\n",
       "        text-align: right;\n",
       "    }\n",
       "</style>\n",
       "<table border=\"1\" class=\"dataframe\">\n",
       "  <thead>\n",
       "    <tr style=\"text-align: right;\">\n",
       "      <th></th>\n",
       "      <th>country</th>\n",
       "      <th>age</th>\n",
       "      <th>new_user</th>\n",
       "      <th>source</th>\n",
       "      <th>total_pages_visited</th>\n",
       "      <th>converted</th>\n",
       "    </tr>\n",
       "  </thead>\n",
       "  <tbody>\n",
       "    <tr>\n",
       "      <th>0</th>\n",
       "      <td>UK</td>\n",
       "      <td>25</td>\n",
       "      <td>1</td>\n",
       "      <td>Ads</td>\n",
       "      <td>1</td>\n",
       "      <td>0</td>\n",
       "    </tr>\n",
       "    <tr>\n",
       "      <th>1</th>\n",
       "      <td>US</td>\n",
       "      <td>23</td>\n",
       "      <td>1</td>\n",
       "      <td>Seo</td>\n",
       "      <td>5</td>\n",
       "      <td>0</td>\n",
       "    </tr>\n",
       "    <tr>\n",
       "      <th>2</th>\n",
       "      <td>US</td>\n",
       "      <td>28</td>\n",
       "      <td>1</td>\n",
       "      <td>Seo</td>\n",
       "      <td>4</td>\n",
       "      <td>0</td>\n",
       "    </tr>\n",
       "    <tr>\n",
       "      <th>3</th>\n",
       "      <td>China</td>\n",
       "      <td>39</td>\n",
       "      <td>1</td>\n",
       "      <td>Seo</td>\n",
       "      <td>5</td>\n",
       "      <td>0</td>\n",
       "    </tr>\n",
       "    <tr>\n",
       "      <th>4</th>\n",
       "      <td>US</td>\n",
       "      <td>30</td>\n",
       "      <td>1</td>\n",
       "      <td>Seo</td>\n",
       "      <td>6</td>\n",
       "      <td>0</td>\n",
       "    </tr>\n",
       "  </tbody>\n",
       "</table>\n",
       "</div>"
      ],
      "text/plain": [
       "  country  age  new_user source  total_pages_visited  converted\n",
       "0      UK   25         1    Ads                    1          0\n",
       "1      US   23         1    Seo                    5          0\n",
       "2      US   28         1    Seo                    4          0\n",
       "3   China   39         1    Seo                    5          0\n",
       "4      US   30         1    Seo                    6          0"
      ]
     },
     "execution_count": 2,
     "metadata": {},
     "output_type": "execute_result"
    }
   ],
   "source": [
    "#Importing the dataset\n",
    "\n",
    "cd = pd.read_csv(\"conversion_data.csv\")\n",
    "cd.head()"
   ]
  },
  {
   "cell_type": "markdown",
   "metadata": {},
   "source": [
    "#### Some stats about the dataset"
   ]
  },
  {
   "cell_type": "code",
   "execution_count": 3,
   "metadata": {},
   "outputs": [
    {
     "name": "stdout",
     "output_type": "stream",
     "text": [
      "                 age       new_user  total_pages_visited      converted\n",
      "count  316200.000000  316200.000000        316200.000000  316200.000000\n",
      "mean       30.569858       0.685465             4.872966       0.032258\n",
      "std         8.271802       0.464331             3.341104       0.176685\n",
      "min        17.000000       0.000000             1.000000       0.000000\n",
      "25%        24.000000       0.000000             2.000000       0.000000\n",
      "50%        30.000000       1.000000             4.000000       0.000000\n",
      "75%        36.000000       1.000000             7.000000       0.000000\n",
      "max       123.000000       1.000000            29.000000       1.000000\n"
     ]
    }
   ],
   "source": [
    "#Description of the dataset\n",
    "\n",
    "print(cd.describe())"
   ]
  },
  {
   "cell_type": "markdown",
   "metadata": {},
   "source": [
    "#### From the describe method:\n",
    "\n",
    " Number of rows = 316200\n",
    " \n",
    " Number of categorical columns = 2 (Country, Source) \n",
    " \n",
    " Number of numberical columns = 4 (Age, new_user, total_pages_visited, converted)\n",
    " \n",
    " #### Y = converted\n",
    " #### X = country, age, new_user, source, total_pages_visited"
   ]
  },
  {
   "cell_type": "markdown",
   "metadata": {},
   "source": [
    "## Step 1: Data cleaning"
   ]
  },
  {
   "cell_type": "markdown",
   "metadata": {},
   "source": [
    "### Missing values:"
   ]
  },
  {
   "cell_type": "code",
   "execution_count": 4,
   "metadata": {},
   "outputs": [
    {
     "data": {
      "text/plain": [
       "country                0\n",
       "age                    0\n",
       "new_user               0\n",
       "source                 0\n",
       "total_pages_visited    0\n",
       "converted              0\n",
       "dtype: int64"
      ]
     },
     "execution_count": 4,
     "metadata": {},
     "output_type": "execute_result"
    }
   ],
   "source": [
    "# Finding if any missing values exist in the dataset\n",
    "\n",
    "cd.isnull().sum()\n",
    "\n",
    "#No missing values in the dataset"
   ]
  },
  {
   "cell_type": "markdown",
   "metadata": {},
   "source": [
    "#### No missing values"
   ]
  },
  {
   "cell_type": "markdown",
   "metadata": {},
   "source": [
    "### Step 2: Finding Outliers"
   ]
  },
  {
   "cell_type": "code",
   "execution_count": 5,
   "metadata": {},
   "outputs": [
    {
     "name": "stdout",
     "output_type": "stream",
     "text": [
      "Outlier information with Inter Quartile range: (For age, total_pages_visited)\n",
      "Age: Q1: 24.000000, Q3: 36.000000, IQR: 12.000000 \n",
      "total_pages_visited: Q1: 2.000000, Q3: 7.000000, IQR: 5.000000 \n"
     ]
    }
   ],
   "source": [
    "#Checking outliers:\n",
    "#country, new_User,source and converted are categorical variables so let's ignore them\n",
    "#Age and total_pages_visited need outlier detection \n",
    "\n",
    "print(\"Outlier information with Inter Quartile range: (For age, total_pages_visited)\")\n",
    "\n",
    "#Let's check the IQR scores of age:\n",
    "Q1_age = np.percentile(cd.age, 25)  #This is the 1st quartile\n",
    "Q3_age = np.percentile(cd.age, 75)  #This is the 3rd quartile\n",
    "IQR_age = Q3_age - Q1_age   #This is IQR\n",
    "\n",
    "print(\"Age: Q1: %f, Q3: %f, IQR: %f \" %(Q1_age, Q3_age, IQR_age))\n",
    "\n",
    "#Let's check the IQR scores of total_pages_visited:\n",
    "Q1_total_pages_visited = np.percentile(cd.total_pages_visited, 25)  #This is the 1st quartile\n",
    "Q3_total_pages_visited = np.percentile(cd.total_pages_visited, 75)  #This is the 3rd quartile\n",
    "IQR_total_pages_visited = Q3_total_pages_visited - Q1_total_pages_visited   #This is IQR\n",
    "\n",
    "print(\"total_pages_visited: Q1: %f, Q3: %f, IQR: %f \" %( Q1_total_pages_visited, Q3_total_pages_visited, IQR_total_pages_visited))\n"
   ]
  },
  {
   "cell_type": "markdown",
   "metadata": {},
   "source": [
    "#### Skewness of the data distribution:"
   ]
  },
  {
   "cell_type": "markdown",
   "metadata": {},
   "source": [
    "Coefficient of Skewness measures how skewed is your distribution. \n",
    "\n",
    "If this value is significantly more than zero, then your distribution is skewed to the right - positively skewed. \n",
    "\n",
    "If this coefficient is close to zero, then you'll have a relatively symmetric distribution. \n",
    "\n",
    "Values which are significantly less than zero are skewed to the left or are negatively skewed."
   ]
  },
  {
   "cell_type": "code",
   "execution_count": 6,
   "metadata": {},
   "outputs": [
    {
     "name": "stdout",
     "output_type": "stream",
     "text": [
      "Age skew coefficient:  0.5193216964461843\n",
      "total_pages_visited skew coefficient:  0.5193216964461843\n"
     ]
    }
   ],
   "source": [
    "#Checking skewness:\n",
    "\n",
    "print(\"Age skew coefficient: \",cd.age.skew())\n",
    "print(\"total_pages_visited skew coefficient: \",cd.age.skew())\n"
   ]
  },
  {
   "cell_type": "markdown",
   "metadata": {},
   "source": [
    "Both are right - positively skewed."
   ]
  },
  {
   "cell_type": "markdown",
   "metadata": {},
   "source": [
    "#### Boxplots to look at the outliers"
   ]
  },
  {
   "cell_type": "code",
   "execution_count": 7,
   "metadata": {},
   "outputs": [
    {
     "data": {
      "image/png": "[encoded data removed]",
      "text/plain": [
       "<Figure size 432x288 with 1 Axes>"
      ]
     },
     "metadata": {
      "needs_background": "light"
     },
     "output_type": "display_data"
    }
   ],
   "source": [
    "#Boxplot to look at outliers in age\n",
    "plt.boxplot(cd['age'])\n",
    "plt.suptitle('Box plot of age before handling outliers')\n",
    "plt.show()"
   ]
  },
  {
   "cell_type": "code",
   "execution_count": 8,
   "metadata": {},
   "outputs": [
    {
     "data": {
      "image/png": "[encoded data removed]",
      "text/plain": [
       "<Figure size 432x288 with 1 Axes>"
      ]
     },
     "metadata": {
      "needs_background": "light"
     },
     "output_type": "display_data"
    }
   ],
   "source": [
    "#Boxplot to look at outliers in total_pages)visited\n",
    "\n",
    "plt.boxplot(cd['total_pages_visited'])\n",
    "plt.suptitle('Box plot of total_pages visited before handling outliers')\n",
    "\n",
    "plt.show()"
   ]
  },
  {
   "cell_type": "markdown",
   "metadata": {},
   "source": [
    "### Step 3: Handling Outliers"
   ]
  },
  {
   "cell_type": "markdown",
   "metadata": {},
   "source": [
    "#### Method used: Flooring and capping"
   ]
  },
  {
   "cell_type": "markdown",
   "metadata": {},
   "source": [
    "The outlier is capped at a certain value above the 90th percentile value\n",
    "\n",
    "or \n",
    "\n",
    "floored at a factor below the 10th percentile value."
   ]
  },
  {
   "cell_type": "code",
   "execution_count": 9,
   "metadata": {},
   "outputs": [
    {
     "name": "stdout",
     "output_type": "stream",
     "text": [
      "Age 10th percentile:  20.0\n",
      "Age 90th percentile:  42.0\n",
      "total_pages_visited 10th percentile:  1.0\n",
      "total_pages_visited 90th percentile:  9.0\n"
     ]
    }
   ],
   "source": [
    "#flooring (10th percentile) for the lower values and capping (the 90th percentile) for the higher values\n",
    "print(\"Age 10th percentile: \",cd['age'].quantile(0.10))\n",
    "print(\"Age 90th percentile: \",cd['age'].quantile(0.90))\n",
    "print(\"total_pages_visited 10th percentile: \",cd['total_pages_visited'].quantile(0.10))\n",
    "print(\"total_pages_visited 90th percentile: \",cd['total_pages_visited'].quantile(0.90))"
   ]
  },
  {
   "cell_type": "code",
   "execution_count": 10,
   "metadata": {},
   "outputs": [],
   "source": [
    "#Conditions to floor, cap age outliers\n",
    "cd[\"age\"] = np.where(cd[\"age\"] <20.0, 20.0,cd['age'])\n",
    "cd[\"age\"] = np.where(cd[\"age\"] >42.0, 42.0,cd['age'])\n",
    "\n",
    "#Conditions to floor, cap total_pages_visited outliers\n",
    "cd[\"total_pages_visited\"] = np.where(cd[\"total_pages_visited\"] <1.0, 1.0,cd['total_pages_visited'])\n",
    "cd[\"total_pages_visited\"] = np.where(cd[\"total_pages_visited\"] >9.0, 9.0,cd['total_pages_visited'])"
   ]
  },
  {
   "cell_type": "code",
   "execution_count": 11,
   "metadata": {},
   "outputs": [
    {
     "name": "stdout",
     "output_type": "stream",
     "text": [
      "Age skew coefficient:  0.1700707164305377\n",
      "total_pages_visited skew coefficient:  0.1700707164305377\n"
     ]
    }
   ],
   "source": [
    "#Re-Checking skewness:\n",
    "\n",
    "print(\"Age skew coefficient: \",cd.age.skew())\n",
    "print(\"total_pages_visited skew coefficient: \",cd.age.skew())\n"
   ]
  },
  {
   "cell_type": "markdown",
   "metadata": {},
   "source": [
    "Both age and total_pages_visited are still right positively skewed but the skewness coefficient is much lesser and closer to 0 which means:\n",
    "    \n",
    "It is a relatively symmetric distribution"
   ]
  },
  {
   "cell_type": "code",
   "execution_count": 12,
   "metadata": {},
   "outputs": [
    {
     "data": {
      "image/png": "[encoded data removed]",
      "text/plain": [
       "<Figure size 432x288 with 1 Axes>"
      ]
     },
     "metadata": {
      "needs_background": "light"
     },
     "output_type": "display_data"
    }
   ],
   "source": [
    "#Boxplot to look at outliers in age after handling outliers\n",
    "plt.suptitle('Box plot of age after handling outliers')\n",
    "plt.boxplot(cd['age'])\n",
    "plt.show()"
   ]
  },
  {
   "cell_type": "code",
   "execution_count": 13,
   "metadata": {},
   "outputs": [
    {
     "data": {
      "image/png": "[encoded data removed]",
      "text/plain": [
       "<Figure size 432x288 with 1 Axes>"
      ]
     },
     "metadata": {
      "needs_background": "light"
     },
     "output_type": "display_data"
    }
   ],
   "source": [
    "#Boxplot to look at outliers in total_pages_visited after handling outliers\n",
    "plt.suptitle('Box plot of total_pages_visited after handling outliers')\n",
    "plt.boxplot(cd['total_pages_visited'])\n",
    "plt.show()"
   ]
  },
  {
   "cell_type": "code",
   "execution_count": 14,
   "metadata": {},
   "outputs": [
    {
     "name": "stdout",
     "output_type": "stream",
     "text": [
      "                 age       new_user  total_pages_visited      converted\n",
      "count  316200.000000  316200.000000        316200.000000  316200.000000\n",
      "mean       30.280816       0.685465             4.567030       0.032258\n",
      "std         7.136400       0.464331             2.584354       0.176685\n",
      "min        20.000000       0.000000             1.000000       0.000000\n",
      "25%        24.000000       0.000000             2.000000       0.000000\n",
      "50%        30.000000       1.000000             4.000000       0.000000\n",
      "75%        36.000000       1.000000             7.000000       0.000000\n",
      "max        42.000000       1.000000             9.000000       1.000000\n"
     ]
    }
   ],
   "source": [
    "#Description of the dataset after handling outliers\n",
    "\n",
    "print(cd.describe())"
   ]
  },
  {
   "cell_type": "markdown",
   "metadata": {},
   "source": [
    "#### Number of rows remains the same. Maximum and minimum values have changed"
   ]
  },
  {
   "cell_type": "markdown",
   "metadata": {},
   "source": [
    "### Step 4: EDA"
   ]
  },
  {
   "cell_type": "markdown",
   "metadata": {},
   "source": [
    "#### Initial conversion rate"
   ]
  },
  {
   "cell_type": "code",
   "execution_count": 15,
   "metadata": {},
   "outputs": [
    {
     "name": "stdout",
     "output_type": "stream",
     "text": [
      "Number of customers converted is: 10200 out of 316200\n",
      "Initial Conversion rate is: 3.23 %\n"
     ]
    }
   ],
   "source": [
    "conversion_rate = cd.converted.sum() / cd.shape[0]\n",
    "print('Number of customers converted is: %i out of %i' % (cd.converted.sum(), cd.shape[0]))\n",
    "print(\"Initial Conversion rate is:\",round(conversion_rate*100, 2), \"%\")"
   ]
  },
  {
   "cell_type": "markdown",
   "metadata": {},
   "source": [
    "#### EDA Starts here:"
   ]
  },
  {
   "cell_type": "markdown",
   "metadata": {},
   "source": [
    "#### i. Conversion rate by age\n"
   ]
  },
  {
   "cell_type": "code",
   "execution_count": 16,
   "metadata": {},
   "outputs": [
    {
     "data": {
      "text/html": [
       "<div>\n",
       "<style scoped>\n",
       "    .dataframe tbody tr th:only-of-type {\n",
       "        vertical-align: middle;\n",
       "    }\n",
       "\n",
       "    .dataframe tbody tr th {\n",
       "        vertical-align: top;\n",
       "    }\n",
       "\n",
       "    .dataframe thead th {\n",
       "        text-align: right;\n",
       "    }\n",
       "</style>\n",
       "<table border=\"1\" class=\"dataframe\">\n",
       "  <thead>\n",
       "    <tr style=\"text-align: right;\">\n",
       "      <th></th>\n",
       "      <th>age</th>\n",
       "      <th>conversion_%</th>\n",
       "    </tr>\n",
       "  </thead>\n",
       "  <tbody>\n",
       "    <tr>\n",
       "      <th>0</th>\n",
       "      <td>20.0</td>\n",
       "      <td>6.272492</td>\n",
       "    </tr>\n",
       "    <tr>\n",
       "      <th>1</th>\n",
       "      <td>21.0</td>\n",
       "      <td>5.398504</td>\n",
       "    </tr>\n",
       "    <tr>\n",
       "      <th>2</th>\n",
       "      <td>22.0</td>\n",
       "      <td>5.324331</td>\n",
       "    </tr>\n",
       "    <tr>\n",
       "      <th>3</th>\n",
       "      <td>23.0</td>\n",
       "      <td>4.798962</td>\n",
       "    </tr>\n",
       "    <tr>\n",
       "      <th>4</th>\n",
       "      <td>24.0</td>\n",
       "      <td>4.544753</td>\n",
       "    </tr>\n",
       "  </tbody>\n",
       "</table>\n",
       "</div>"
      ],
      "text/plain": [
       "    age  conversion_%\n",
       "0  20.0      6.272492\n",
       "1  21.0      5.398504\n",
       "2  22.0      5.324331\n",
       "3  23.0      4.798962\n",
       "4  24.0      4.544753"
      ]
     },
     "execution_count": 16,
     "metadata": {},
     "output_type": "execute_result"
    }
   ],
   "source": [
    "#Conversion rate by age\n",
    "\n",
    "conversion_rate_by_age = cd.groupby(by='age')['converted'].sum() / cd.groupby(by='age')['converted'].count() * 100.0\n",
    "\n",
    "pd.DataFrame(conversion_rate_by_age.reset_index().rename(columns={'converted':'conversion_%'})).head()"
   ]
  },
  {
   "cell_type": "code",
   "execution_count": 17,
   "metadata": {},
   "outputs": [
    {
     "data": {
      "image/png": "[encoded data removed]",
      "text/plain": [
       "<Figure size 720x504 with 1 Axes>"
      ]
     },
     "metadata": {
      "needs_background": "light"
     },
     "output_type": "display_data"
    }
   ],
   "source": [
    "ax = conversion_rate_by_age.plot(\n",
    "    grid=True,\n",
    "    figsize=(10, 7),\n",
    "    title='Conversion Rates by Age')\n",
    "\n",
    "ax.set_xlabel('age')\n",
    "ax.set_ylabel('conversion rate (%)')\n",
    "\n",
    "plt.show()"
   ]
  },
  {
   "cell_type": "markdown",
   "metadata": {},
   "source": [
    "#### There is a downward trending line between conversion rate and age"
   ]
  },
  {
   "cell_type": "markdown",
   "metadata": {},
   "source": [
    "#### Conversion rate by age grouped:"
   ]
  },
  {
   "cell_type": "code",
   "execution_count": 18,
   "metadata": {},
   "outputs": [
    {
     "data": {
      "text/html": [
       "<div>\n",
       "<style scoped>\n",
       "    .dataframe tbody tr th:only-of-type {\n",
       "        vertical-align: middle;\n",
       "    }\n",
       "\n",
       "    .dataframe tbody tr th {\n",
       "        vertical-align: top;\n",
       "    }\n",
       "\n",
       "    .dataframe thead th {\n",
       "        text-align: right;\n",
       "    }\n",
       "</style>\n",
       "<table border=\"1\" class=\"dataframe\">\n",
       "  <thead>\n",
       "    <tr style=\"text-align: right;\">\n",
       "      <th></th>\n",
       "      <th>country</th>\n",
       "      <th>age</th>\n",
       "      <th>new_user</th>\n",
       "      <th>source</th>\n",
       "      <th>total_pages_visited</th>\n",
       "      <th>converted</th>\n",
       "      <th>age_group</th>\n",
       "    </tr>\n",
       "  </thead>\n",
       "  <tbody>\n",
       "    <tr>\n",
       "      <th>0</th>\n",
       "      <td>UK</td>\n",
       "      <td>25.0</td>\n",
       "      <td>1</td>\n",
       "      <td>Ads</td>\n",
       "      <td>1.0</td>\n",
       "      <td>0</td>\n",
       "      <td>[21, 30]</td>\n",
       "    </tr>\n",
       "    <tr>\n",
       "      <th>1</th>\n",
       "      <td>US</td>\n",
       "      <td>23.0</td>\n",
       "      <td>1</td>\n",
       "      <td>Seo</td>\n",
       "      <td>5.0</td>\n",
       "      <td>0</td>\n",
       "      <td>[21, 30]</td>\n",
       "    </tr>\n",
       "    <tr>\n",
       "      <th>2</th>\n",
       "      <td>US</td>\n",
       "      <td>28.0</td>\n",
       "      <td>1</td>\n",
       "      <td>Seo</td>\n",
       "      <td>4.0</td>\n",
       "      <td>0</td>\n",
       "      <td>[21, 30]</td>\n",
       "    </tr>\n",
       "    <tr>\n",
       "      <th>3</th>\n",
       "      <td>China</td>\n",
       "      <td>39.0</td>\n",
       "      <td>1</td>\n",
       "      <td>Seo</td>\n",
       "      <td>5.0</td>\n",
       "      <td>0</td>\n",
       "      <td>[31, 40]</td>\n",
       "    </tr>\n",
       "    <tr>\n",
       "      <th>4</th>\n",
       "      <td>US</td>\n",
       "      <td>30.0</td>\n",
       "      <td>1</td>\n",
       "      <td>Seo</td>\n",
       "      <td>6.0</td>\n",
       "      <td>0</td>\n",
       "      <td>[21, 30]</td>\n",
       "    </tr>\n",
       "  </tbody>\n",
       "</table>\n",
       "</div>"
      ],
      "text/plain": [
       "  country   age  new_user source  total_pages_visited  converted age_group\n",
       "0      UK  25.0         1    Ads                  1.0          0  [21, 30]\n",
       "1      US  23.0         1    Seo                  5.0          0  [21, 30]\n",
       "2      US  28.0         1    Seo                  4.0          0  [21, 30]\n",
       "3   China  39.0         1    Seo                  5.0          0  [31, 40]\n",
       "4      US  30.0         1    Seo                  6.0          0  [21, 30]"
      ]
     },
     "execution_count": 18,
     "metadata": {},
     "output_type": "execute_result"
    }
   ],
   "source": [
    "# Creating a new column in the dataset for age_group:\n",
    "\n",
    "def age_group_function(cd):\n",
    "\n",
    "    if (cd['age'] > 40):\n",
    "        return '>40'\n",
    "    \n",
    "    elif (cd['age'] <= 40) and (cd['age'] > 30):\n",
    "        return '[31, 40]'\n",
    "    \n",
    "    elif (cd['age'] <= 30) and (cd['age'] > 20):\n",
    "        return '[21, 30]'\n",
    "    \n",
    "    elif (cd['age'] <= 20):\n",
    "        return '<=20'    \n",
    "    \n",
    "cd['age_group'] = cd.apply(age_group_function, axis = 1)\n",
    "cd.head()"
   ]
  },
  {
   "cell_type": "code",
   "execution_count": 19,
   "metadata": {},
   "outputs": [
    {
     "data": {
      "text/html": [
       "<div>\n",
       "<style scoped>\n",
       "    .dataframe tbody tr th:only-of-type {\n",
       "        vertical-align: middle;\n",
       "    }\n",
       "\n",
       "    .dataframe tbody tr th {\n",
       "        vertical-align: top;\n",
       "    }\n",
       "\n",
       "    .dataframe thead th {\n",
       "        text-align: right;\n",
       "    }\n",
       "</style>\n",
       "<table border=\"1\" class=\"dataframe\">\n",
       "  <thead>\n",
       "    <tr style=\"text-align: right;\">\n",
       "      <th></th>\n",
       "      <th>age_group</th>\n",
       "      <th>conversion_%</th>\n",
       "    </tr>\n",
       "  </thead>\n",
       "  <tbody>\n",
       "    <tr>\n",
       "      <th>0</th>\n",
       "      <td>&lt;=20</td>\n",
       "      <td>6.272492</td>\n",
       "    </tr>\n",
       "    <tr>\n",
       "      <th>1</th>\n",
       "      <td>&gt;40</td>\n",
       "      <td>1.037924</td>\n",
       "    </tr>\n",
       "    <tr>\n",
       "      <th>2</th>\n",
       "      <td>[21, 30]</td>\n",
       "      <td>4.008830</td>\n",
       "    </tr>\n",
       "    <tr>\n",
       "      <th>3</th>\n",
       "      <td>[31, 40]</td>\n",
       "      <td>2.078157</td>\n",
       "    </tr>\n",
       "  </tbody>\n",
       "</table>\n",
       "</div>"
      ],
      "text/plain": [
       "  age_group  conversion_%\n",
       "0      <=20      6.272492\n",
       "1       >40      1.037924\n",
       "2  [21, 30]      4.008830\n",
       "3  [31, 40]      2.078157"
      ]
     },
     "execution_count": 19,
     "metadata": {},
     "output_type": "execute_result"
    }
   ],
   "source": [
    "#Conversion rate by age_group\n",
    "conversion_rate_by_age_group = cd.groupby(by='age_group')['converted'].sum() / cd.groupby(by='age_group')['converted'].count() * 100.0\n",
    "pd.DataFrame(conversion_rate_by_age_group.reset_index().rename(columns={'converted':'conversion_%'})).head()"
   ]
  },
  {
   "cell_type": "code",
   "execution_count": 20,
   "metadata": {},
   "outputs": [
    {
     "data": {
      "image/png": "[encoded data removed]",
      "text/plain": [
       "<Figure size 720x504 with 1 Axes>"
      ]
     },
     "metadata": {
      "needs_background": "light"
     },
     "output_type": "display_data"
    }
   ],
   "source": [
    "ax = conversion_rate_by_age_group.loc[['<=20', '[21, 30]', '[31, 40]', '>40']].plot(\n",
    "    kind='bar',\n",
    "    color='skyblue',\n",
    "    grid=True,\n",
    "    figsize=(10, 7),\n",
    "    title='Conversion Rates by Age Groups')\n",
    "\n",
    "ax.set_xlabel('age_group')\n",
    "ax.set_ylabel('conversion rate (%)')\n",
    "\n",
    "plt.show()"
   ]
  },
  {
   "cell_type": "markdown",
   "metadata": {},
   "source": [
    "#### ii. Conversion rates by country"
   ]
  },
  {
   "cell_type": "code",
   "execution_count": 21,
   "metadata": {},
   "outputs": [
    {
     "data": {
      "text/html": [
       "<div>\n",
       "<style scoped>\n",
       "    .dataframe tbody tr th:only-of-type {\n",
       "        vertical-align: middle;\n",
       "    }\n",
       "\n",
       "    .dataframe tbody tr th {\n",
       "        vertical-align: top;\n",
       "    }\n",
       "\n",
       "    .dataframe thead tr th {\n",
       "        text-align: left;\n",
       "    }\n",
       "\n",
       "    .dataframe thead tr:last-of-type th {\n",
       "        text-align: right;\n",
       "    }\n",
       "</style>\n",
       "<table border=\"1\" class=\"dataframe\">\n",
       "  <thead>\n",
       "    <tr>\n",
       "      <th></th>\n",
       "      <th colspan=\"2\" halign=\"left\">converted</th>\n",
       "    </tr>\n",
       "    <tr>\n",
       "      <th>converted</th>\n",
       "      <th>0</th>\n",
       "      <th>1</th>\n",
       "    </tr>\n",
       "    <tr>\n",
       "      <th>country</th>\n",
       "      <th></th>\n",
       "      <th></th>\n",
       "    </tr>\n",
       "  </thead>\n",
       "  <tbody>\n",
       "    <tr>\n",
       "      <th>China</th>\n",
       "      <td>76500</td>\n",
       "      <td>102</td>\n",
       "    </tr>\n",
       "    <tr>\n",
       "      <th>Germany</th>\n",
       "      <td>12240</td>\n",
       "      <td>816</td>\n",
       "    </tr>\n",
       "    <tr>\n",
       "      <th>UK</th>\n",
       "      <td>45900</td>\n",
       "      <td>2550</td>\n",
       "    </tr>\n",
       "    <tr>\n",
       "      <th>US</th>\n",
       "      <td>171360</td>\n",
       "      <td>6732</td>\n",
       "    </tr>\n",
       "  </tbody>\n",
       "</table>\n",
       "</div>"
      ],
      "text/plain": [
       "          converted      \n",
       "converted         0     1\n",
       "country                  \n",
       "China         76500   102\n",
       "Germany       12240   816\n",
       "UK            45900  2550\n",
       "US           171360  6732"
      ]
     },
     "execution_count": 21,
     "metadata": {},
     "output_type": "execute_result"
    }
   ],
   "source": [
    "# Conversion rates by country\n",
    "\n",
    "\n",
    "conversions_by_country = cd.pivot_table(index='country', columns='converted',\n",
    "                    aggfunc={'converted':len})\n",
    "conversions_by_country"
   ]
  },
  {
   "cell_type": "code",
   "execution_count": 22,
   "metadata": {},
   "outputs": [
    {
     "data": {
      "image/png": "[encoded data removed]",
      "text/plain": [
       "<Figure size 1440x648 with 2 Axes>"
      ]
     },
     "metadata": {},
     "output_type": "display_data"
    }
   ],
   "source": [
    "#Pie chart for conversion rate by country\n",
    "conversions_by_country.plot(\n",
    "    kind='pie',\n",
    "    textprops={'fontsize': 16\n",
    "               ,'color': 'white'\n",
    "              },\n",
    "    figsize=(20, 9),\n",
    "    startangle=90,\n",
    "    subplots=True,\n",
    "    #title='Conversion Rates by Country',\n",
    "    autopct=lambda x: '%0.1f%%' % x)\n",
    "\n",
    "plt.title('Conversion Rates by Country',fontsize=20,loc = 'center')\n",
    "\n",
    "plt.show()"
   ]
  },
  {
   "cell_type": "markdown",
   "metadata": {},
   "source": [
    "Conversion rates are higher in USA than other countries. China has the lowest"
   ]
  },
  {
   "cell_type": "markdown",
   "metadata": {},
   "source": [
    "#### iii. Conversion rate by source"
   ]
  },
  {
   "cell_type": "code",
   "execution_count": 23,
   "metadata": {},
   "outputs": [
    {
     "data": {
      "text/html": [
       "<div>\n",
       "<style scoped>\n",
       "    .dataframe tbody tr th:only-of-type {\n",
       "        vertical-align: middle;\n",
       "    }\n",
       "\n",
       "    .dataframe tbody tr th {\n",
       "        vertical-align: top;\n",
       "    }\n",
       "\n",
       "    .dataframe thead tr th {\n",
       "        text-align: left;\n",
       "    }\n",
       "\n",
       "    .dataframe thead tr:last-of-type th {\n",
       "        text-align: right;\n",
       "    }\n",
       "</style>\n",
       "<table border=\"1\" class=\"dataframe\">\n",
       "  <thead>\n",
       "    <tr>\n",
       "      <th></th>\n",
       "      <th colspan=\"2\" halign=\"left\">converted</th>\n",
       "    </tr>\n",
       "    <tr>\n",
       "      <th>converted</th>\n",
       "      <th>0</th>\n",
       "      <th>1</th>\n",
       "    </tr>\n",
       "    <tr>\n",
       "      <th>source</th>\n",
       "      <th></th>\n",
       "      <th></th>\n",
       "    </tr>\n",
       "  </thead>\n",
       "  <tbody>\n",
       "    <tr>\n",
       "      <th>Ads</th>\n",
       "      <td>85680</td>\n",
       "      <td>3060</td>\n",
       "    </tr>\n",
       "    <tr>\n",
       "      <th>Direct</th>\n",
       "      <td>70380</td>\n",
       "      <td>2040</td>\n",
       "    </tr>\n",
       "    <tr>\n",
       "      <th>Seo</th>\n",
       "      <td>149940</td>\n",
       "      <td>5100</td>\n",
       "    </tr>\n",
       "  </tbody>\n",
       "</table>\n",
       "</div>"
      ],
      "text/plain": [
       "          converted      \n",
       "converted         0     1\n",
       "source                   \n",
       "Ads           85680  3060\n",
       "Direct        70380  2040\n",
       "Seo          149940  5100"
      ]
     },
     "execution_count": 23,
     "metadata": {},
     "output_type": "execute_result"
    }
   ],
   "source": [
    "#Conversion rate by source\n",
    "conversions_by_source = cd.pivot_table(index='source', columns='converted',\n",
    "                    aggfunc={'converted':len})\n",
    "conversions_by_source"
   ]
  },
  {
   "cell_type": "code",
   "execution_count": 24,
   "metadata": {},
   "outputs": [
    {
     "data": {
      "image/png": "[encoded data removed]",
      "text/plain": [
       "<Figure size 1800x864 with 2 Axes>"
      ]
     },
     "metadata": {},
     "output_type": "display_data"
    }
   ],
   "source": [
    "#Pie chart for conversion rate by source\n",
    "conversions_by_source.plot(\n",
    "    kind='pie',\n",
    "    textprops={'fontsize': 16\n",
    "               ,'color': 'white'\n",
    "              },\n",
    "    figsize=(25, 12),\n",
    "    startangle=90,\n",
    "    subplots=True,\n",
    "    autopct=lambda x: '%0.1f%%' % x)\n",
    "\n",
    "plt.show()"
   ]
  },
  {
   "cell_type": "markdown",
   "metadata": {},
   "source": [
    "Seo has more reach on conversion rate than other sources"
   ]
  },
  {
   "cell_type": "markdown",
   "metadata": {},
   "source": [
    "#### iv. Conversion rate by age_group and country"
   ]
  },
  {
   "cell_type": "code",
   "execution_count": 25,
   "metadata": {},
   "outputs": [
    {
     "data": {
      "text/html": [
       "<div>\n",
       "<style scoped>\n",
       "    .dataframe tbody tr th:only-of-type {\n",
       "        vertical-align: middle;\n",
       "    }\n",
       "\n",
       "    .dataframe tbody tr th {\n",
       "        vertical-align: top;\n",
       "    }\n",
       "\n",
       "    .dataframe thead th {\n",
       "        text-align: right;\n",
       "    }\n",
       "</style>\n",
       "<table border=\"1\" class=\"dataframe\">\n",
       "  <thead>\n",
       "    <tr style=\"text-align: right;\">\n",
       "      <th>country</th>\n",
       "      <th>China</th>\n",
       "      <th>Germany</th>\n",
       "      <th>UK</th>\n",
       "      <th>US</th>\n",
       "    </tr>\n",
       "    <tr>\n",
       "      <th>age_group</th>\n",
       "      <th></th>\n",
       "      <th></th>\n",
       "      <th></th>\n",
       "      <th></th>\n",
       "    </tr>\n",
       "  </thead>\n",
       "  <tbody>\n",
       "    <tr>\n",
       "      <th>&lt;=20</th>\n",
       "      <td>21</td>\n",
       "      <td>191</td>\n",
       "      <td>572</td>\n",
       "      <td>1447</td>\n",
       "    </tr>\n",
       "    <tr>\n",
       "      <th>&gt;40</th>\n",
       "      <td>3</td>\n",
       "      <td>30</td>\n",
       "      <td>101</td>\n",
       "      <td>282</td>\n",
       "    </tr>\n",
       "    <tr>\n",
       "      <th>[21, 30]</th>\n",
       "      <td>60</td>\n",
       "      <td>409</td>\n",
       "      <td>1333</td>\n",
       "      <td>3501</td>\n",
       "    </tr>\n",
       "    <tr>\n",
       "      <th>[31, 40]</th>\n",
       "      <td>18</td>\n",
       "      <td>186</td>\n",
       "      <td>544</td>\n",
       "      <td>1502</td>\n",
       "    </tr>\n",
       "  </tbody>\n",
       "</table>\n",
       "</div>"
      ],
      "text/plain": [
       "country    China  Germany    UK    US\n",
       "age_group                            \n",
       "<=20          21      191   572  1447\n",
       ">40            3       30   101   282\n",
       "[21, 30]      60      409  1333  3501\n",
       "[31, 40]      18      186   544  1502"
      ]
     },
     "execution_count": 25,
     "metadata": {},
     "output_type": "execute_result"
    }
   ],
   "source": [
    "#Grouping age and country\n",
    "age_country = cd.groupby(['age_group', 'country'])['converted'].sum().unstack('country').fillna(0)\n",
    "age_country"
   ]
  },
  {
   "cell_type": "code",
   "execution_count": 26,
   "metadata": {},
   "outputs": [
    {
     "data": {
      "text/html": [
       "<div>\n",
       "<style scoped>\n",
       "    .dataframe tbody tr th:only-of-type {\n",
       "        vertical-align: middle;\n",
       "    }\n",
       "\n",
       "    .dataframe tbody tr th {\n",
       "        vertical-align: top;\n",
       "    }\n",
       "\n",
       "    .dataframe thead th {\n",
       "        text-align: right;\n",
       "    }\n",
       "</style>\n",
       "<table border=\"1\" class=\"dataframe\">\n",
       "  <thead>\n",
       "    <tr style=\"text-align: right;\">\n",
       "      <th>country</th>\n",
       "      <th>China</th>\n",
       "      <th>Germany</th>\n",
       "      <th>UK</th>\n",
       "      <th>US</th>\n",
       "    </tr>\n",
       "    <tr>\n",
       "      <th>age_group</th>\n",
       "      <th></th>\n",
       "      <th></th>\n",
       "      <th></th>\n",
       "      <th></th>\n",
       "    </tr>\n",
       "  </thead>\n",
       "  <tbody>\n",
       "    <tr>\n",
       "      <th>&lt;=20</th>\n",
       "      <td>0.000590</td>\n",
       "      <td>0.005370</td>\n",
       "      <td>0.016082</td>\n",
       "      <td>0.040683</td>\n",
       "    </tr>\n",
       "    <tr>\n",
       "      <th>&gt;40</th>\n",
       "      <td>0.000075</td>\n",
       "      <td>0.000749</td>\n",
       "      <td>0.002520</td>\n",
       "      <td>0.007036</td>\n",
       "    </tr>\n",
       "    <tr>\n",
       "      <th>[21, 30]</th>\n",
       "      <td>0.000454</td>\n",
       "      <td>0.003092</td>\n",
       "      <td>0.010077</td>\n",
       "      <td>0.026466</td>\n",
       "    </tr>\n",
       "    <tr>\n",
       "      <th>[31, 40]</th>\n",
       "      <td>0.000166</td>\n",
       "      <td>0.001718</td>\n",
       "      <td>0.005025</td>\n",
       "      <td>0.013873</td>\n",
       "    </tr>\n",
       "  </tbody>\n",
       "</table>\n",
       "</div>"
      ],
      "text/plain": [
       "country       China   Germany        UK        US\n",
       "age_group                                        \n",
       "<=20       0.000590  0.005370  0.016082  0.040683\n",
       ">40        0.000075  0.000749  0.002520  0.007036\n",
       "[21, 30]   0.000454  0.003092  0.010077  0.026466\n",
       "[31, 40]   0.000166  0.001718  0.005025  0.013873"
      ]
     },
     "execution_count": 26,
     "metadata": {},
     "output_type": "execute_result"
    }
   ],
   "source": [
    "\n",
    "age_country = age_country.divide(\n",
    "    cd.groupby(\n",
    "    by='age_group'\n",
    "    )['converted'].count(), \n",
    "    axis=0)\n",
    "\n",
    "age_country"
   ]
  },
  {
   "cell_type": "code",
   "execution_count": 27,
   "metadata": {},
   "outputs": [
    {
     "data": {
      "image/png": "[encoded data removed]",
      "text/plain": [
       "<Figure size 720x504 with 1 Axes>"
      ]
     },
     "metadata": {
      "needs_background": "light"
     },
     "output_type": "display_data"
    }
   ],
   "source": [
    "ax = age_country.loc[\n",
    "    ['<=20', '[21, 30]', '[31, 40]', '>40']].plot(\n",
    "    kind='bar', \n",
    "    stacked=True,\n",
    "    grid=True,\n",
    "    figsize=(10,7))\n",
    "\n",
    "ax.set_title('Conversion rates by Age & Country')\n",
    "ax.set_xlabel('age group')\n",
    "ax.set_ylabel('conversion rate (%)')\n",
    "\n",
    "plt.show()"
   ]
  },
  {
   "cell_type": "markdown",
   "metadata": {},
   "source": [
    "Conversion rate for age <=20 and country USA is highest. Lowest conversion rate is for China >40 years of age"
   ]
  },
  {
   "cell_type": "markdown",
   "metadata": {},
   "source": [
    "#### v.Conversion rate by age_group and source"
   ]
  },
  {
   "cell_type": "code",
   "execution_count": 28,
   "metadata": {},
   "outputs": [
    {
     "data": {
      "text/html": [
       "<div>\n",
       "<style scoped>\n",
       "    .dataframe tbody tr th:only-of-type {\n",
       "        vertical-align: middle;\n",
       "    }\n",
       "\n",
       "    .dataframe tbody tr th {\n",
       "        vertical-align: top;\n",
       "    }\n",
       "\n",
       "    .dataframe thead th {\n",
       "        text-align: right;\n",
       "    }\n",
       "</style>\n",
       "<table border=\"1\" class=\"dataframe\">\n",
       "  <thead>\n",
       "    <tr style=\"text-align: right;\">\n",
       "      <th>source</th>\n",
       "      <th>Ads</th>\n",
       "      <th>Direct</th>\n",
       "      <th>Seo</th>\n",
       "    </tr>\n",
       "    <tr>\n",
       "      <th>age_group</th>\n",
       "      <th></th>\n",
       "      <th></th>\n",
       "      <th></th>\n",
       "    </tr>\n",
       "  </thead>\n",
       "  <tbody>\n",
       "    <tr>\n",
       "      <th>&lt;=20</th>\n",
       "      <td>669</td>\n",
       "      <td>426</td>\n",
       "      <td>1136</td>\n",
       "    </tr>\n",
       "    <tr>\n",
       "      <th>&gt;40</th>\n",
       "      <td>126</td>\n",
       "      <td>80</td>\n",
       "      <td>210</td>\n",
       "    </tr>\n",
       "    <tr>\n",
       "      <th>[21, 30]</th>\n",
       "      <td>1587</td>\n",
       "      <td>1068</td>\n",
       "      <td>2648</td>\n",
       "    </tr>\n",
       "    <tr>\n",
       "      <th>[31, 40]</th>\n",
       "      <td>678</td>\n",
       "      <td>466</td>\n",
       "      <td>1106</td>\n",
       "    </tr>\n",
       "  </tbody>\n",
       "</table>\n",
       "</div>"
      ],
      "text/plain": [
       "source      Ads  Direct   Seo\n",
       "age_group                    \n",
       "<=20        669     426  1136\n",
       ">40         126      80   210\n",
       "[21, 30]   1587    1068  2648\n",
       "[31, 40]    678     466  1106"
      ]
     },
     "execution_count": 28,
     "metadata": {},
     "output_type": "execute_result"
    }
   ],
   "source": [
    "age_source = cd.groupby(['age_group', 'source'])['converted'].sum().unstack('source').fillna(0)\n",
    "age_source"
   ]
  },
  {
   "cell_type": "code",
   "execution_count": 29,
   "metadata": {},
   "outputs": [
    {
     "data": {
      "text/html": [
       "<div>\n",
       "<style scoped>\n",
       "    .dataframe tbody tr th:only-of-type {\n",
       "        vertical-align: middle;\n",
       "    }\n",
       "\n",
       "    .dataframe tbody tr th {\n",
       "        vertical-align: top;\n",
       "    }\n",
       "\n",
       "    .dataframe thead th {\n",
       "        text-align: right;\n",
       "    }\n",
       "</style>\n",
       "<table border=\"1\" class=\"dataframe\">\n",
       "  <thead>\n",
       "    <tr style=\"text-align: right;\">\n",
       "      <th>source</th>\n",
       "      <th>Ads</th>\n",
       "      <th>Direct</th>\n",
       "      <th>Seo</th>\n",
       "    </tr>\n",
       "    <tr>\n",
       "      <th>age_group</th>\n",
       "      <th></th>\n",
       "      <th></th>\n",
       "      <th></th>\n",
       "    </tr>\n",
       "  </thead>\n",
       "  <tbody>\n",
       "    <tr>\n",
       "      <th>&lt;=20</th>\n",
       "      <td>0.018809</td>\n",
       "      <td>0.011977</td>\n",
       "      <td>0.031939</td>\n",
       "    </tr>\n",
       "    <tr>\n",
       "      <th>&gt;40</th>\n",
       "      <td>0.003144</td>\n",
       "      <td>0.001996</td>\n",
       "      <td>0.005240</td>\n",
       "    </tr>\n",
       "    <tr>\n",
       "      <th>[21, 30]</th>\n",
       "      <td>0.011997</td>\n",
       "      <td>0.008074</td>\n",
       "      <td>0.020018</td>\n",
       "    </tr>\n",
       "    <tr>\n",
       "      <th>[31, 40]</th>\n",
       "      <td>0.006262</td>\n",
       "      <td>0.004304</td>\n",
       "      <td>0.010215</td>\n",
       "    </tr>\n",
       "  </tbody>\n",
       "</table>\n",
       "</div>"
      ],
      "text/plain": [
       "source          Ads    Direct       Seo\n",
       "age_group                              \n",
       "<=20       0.018809  0.011977  0.031939\n",
       ">40        0.003144  0.001996  0.005240\n",
       "[21, 30]   0.011997  0.008074  0.020018\n",
       "[31, 40]   0.006262  0.004304  0.010215"
      ]
     },
     "execution_count": 29,
     "metadata": {},
     "output_type": "execute_result"
    }
   ],
   "source": [
    "age_source = age_source.divide(\n",
    "    cd.groupby(\n",
    "    by='age_group'\n",
    "    )['converted'].count(), \n",
    "    axis=0)\n",
    "\n",
    "age_source"
   ]
  },
  {
   "cell_type": "code",
   "execution_count": 30,
   "metadata": {},
   "outputs": [
    {
     "data": {
      "image/png": "[encoded data removed]",
      "text/plain": [
       "<Figure size 720x504 with 1 Axes>"
      ]
     },
     "metadata": {
      "needs_background": "light"
     },
     "output_type": "display_data"
    }
   ],
   "source": [
    "ax = age_source.loc[\n",
    "    ['<=20', '[21, 30]', '[31, 40]', '>40']].plot(\n",
    "    kind='bar', \n",
    "    stacked=True,\n",
    "    grid=True,\n",
    "    figsize=(10,7))\n",
    "\n",
    "ax.set_title('Conversion rates by Age & Source')\n",
    "ax.set_xlabel('age group')\n",
    "ax.set_ylabel('conversion rate (%)')\n",
    "\n",
    "plt.show()"
   ]
  },
  {
   "cell_type": "markdown",
   "metadata": {},
   "source": [
    "Conversion rate for Seo with age <=20 is greatest whereas it is the lowest for Direct source and age > 40"
   ]
  },
  {
   "cell_type": "markdown",
   "metadata": {},
   "source": [
    "#### vi. New user vs conversion rate"
   ]
  },
  {
   "cell_type": "code",
   "execution_count": 31,
   "metadata": {},
   "outputs": [
    {
     "data": {
      "text/html": [
       "<div>\n",
       "<style scoped>\n",
       "    .dataframe tbody tr th:only-of-type {\n",
       "        vertical-align: middle;\n",
       "    }\n",
       "\n",
       "    .dataframe tbody tr th {\n",
       "        vertical-align: top;\n",
       "    }\n",
       "\n",
       "    .dataframe thead tr th {\n",
       "        text-align: left;\n",
       "    }\n",
       "\n",
       "    .dataframe thead tr:last-of-type th {\n",
       "        text-align: right;\n",
       "    }\n",
       "</style>\n",
       "<table border=\"1\" class=\"dataframe\">\n",
       "  <thead>\n",
       "    <tr>\n",
       "      <th></th>\n",
       "      <th colspan=\"2\" halign=\"left\">converted</th>\n",
       "    </tr>\n",
       "    <tr>\n",
       "      <th>converted</th>\n",
       "      <th>0</th>\n",
       "      <th>1</th>\n",
       "    </tr>\n",
       "    <tr>\n",
       "      <th>new_user</th>\n",
       "      <th></th>\n",
       "      <th></th>\n",
       "    </tr>\n",
       "  </thead>\n",
       "  <tbody>\n",
       "    <tr>\n",
       "      <th>0</th>\n",
       "      <td>92295</td>\n",
       "      <td>7161</td>\n",
       "    </tr>\n",
       "    <tr>\n",
       "      <th>1</th>\n",
       "      <td>213705</td>\n",
       "      <td>3039</td>\n",
       "    </tr>\n",
       "  </tbody>\n",
       "</table>\n",
       "</div>"
      ],
      "text/plain": [
       "          converted      \n",
       "converted         0     1\n",
       "new_user                 \n",
       "0             92295  7161\n",
       "1            213705  3039"
      ]
     },
     "execution_count": 31,
     "metadata": {},
     "output_type": "execute_result"
    }
   ],
   "source": [
    "# Conversion rates by new_user\n",
    "\n",
    "\n",
    "conversions_by_new_user = cd.pivot_table(index='new_user', columns='converted',\n",
    "                    aggfunc={'converted':len})\n",
    "conversions_by_new_user"
   ]
  },
  {
   "cell_type": "code",
   "execution_count": 32,
   "metadata": {},
   "outputs": [
    {
     "data": {
      "image/png": "[encoded data removed]",
      "text/plain": [
       "<Figure size 1440x648 with 2 Axes>"
      ]
     },
     "metadata": {},
     "output_type": "display_data"
    }
   ],
   "source": [
    "#Pie chart for conversion rate by new_user\n",
    "conversions_by_new_user.plot(\n",
    "    kind='pie',\n",
    "    textprops={'fontsize': 16\n",
    "               ,'color': 'white'\n",
    "              },\n",
    "    figsize=(20, 9),\n",
    "    startangle=90,\n",
    "    subplots=True,\n",
    "    #title='Conversion Rates by new_user',\n",
    "    autopct=lambda x: '%0.1f%%' % x)\n",
    "\n",
    "plt.title('Conversion Rates by new_user',fontsize=20,loc = 'center')\n",
    "\n",
    "plt.show()"
   ]
  },
  {
   "cell_type": "markdown",
   "metadata": {},
   "source": [
    "Higher conversion rate for people who already have an account\n",
    "\n",
    "New users have visited the website a lot but have not converted"
   ]
  },
  {
   "cell_type": "markdown",
   "metadata": {},
   "source": [
    "#### vii. Conversion rate by total_pages_visited"
   ]
  },
  {
   "cell_type": "code",
   "execution_count": 33,
   "metadata": {},
   "outputs": [
    {
     "data": {
      "text/html": [
       "<div>\n",
       "<style scoped>\n",
       "    .dataframe tbody tr th:only-of-type {\n",
       "        vertical-align: middle;\n",
       "    }\n",
       "\n",
       "    .dataframe tbody tr th {\n",
       "        vertical-align: top;\n",
       "    }\n",
       "\n",
       "    .dataframe thead th {\n",
       "        text-align: right;\n",
       "    }\n",
       "</style>\n",
       "<table border=\"1\" class=\"dataframe\">\n",
       "  <thead>\n",
       "    <tr style=\"text-align: right;\">\n",
       "      <th></th>\n",
       "      <th>total_pages_visited</th>\n",
       "      <th>conversion_%</th>\n",
       "    </tr>\n",
       "  </thead>\n",
       "  <tbody>\n",
       "    <tr>\n",
       "      <th>0</th>\n",
       "      <td>1.0</td>\n",
       "      <td>0.000000</td>\n",
       "    </tr>\n",
       "    <tr>\n",
       "      <th>1</th>\n",
       "      <td>2.0</td>\n",
       "      <td>0.022796</td>\n",
       "    </tr>\n",
       "    <tr>\n",
       "      <th>2</th>\n",
       "      <td>3.0</td>\n",
       "      <td>0.025098</td>\n",
       "    </tr>\n",
       "    <tr>\n",
       "      <th>3</th>\n",
       "      <td>4.0</td>\n",
       "      <td>0.077961</td>\n",
       "    </tr>\n",
       "    <tr>\n",
       "      <th>4</th>\n",
       "      <td>5.0</td>\n",
       "      <td>0.156990</td>\n",
       "    </tr>\n",
       "  </tbody>\n",
       "</table>\n",
       "</div>"
      ],
      "text/plain": [
       "   total_pages_visited  conversion_%\n",
       "0                  1.0      0.000000\n",
       "1                  2.0      0.022796\n",
       "2                  3.0      0.025098\n",
       "3                  4.0      0.077961\n",
       "4                  5.0      0.156990"
      ]
     },
     "execution_count": 33,
     "metadata": {},
     "output_type": "execute_result"
    }
   ],
   "source": [
    "#Conversion rate by total_pages_visited\n",
    "\n",
    "conversion_rate_by_total_pages_visited = cd.groupby(by='total_pages_visited')['converted'].sum() / cd.groupby(by='total_pages_visited')['converted'].count() * 100.0\n",
    "\n",
    "pd.DataFrame(conversion_rate_by_total_pages_visited.reset_index().rename(columns={'converted':'conversion_%'})).head()"
   ]
  },
  {
   "cell_type": "code",
   "execution_count": 34,
   "metadata": {},
   "outputs": [
    {
     "data": {
      "image/png": "[encoded data removed]",
      "text/plain": [
       "<Figure size 720x504 with 1 Axes>"
      ]
     },
     "metadata": {
      "needs_background": "light"
     },
     "output_type": "display_data"
    }
   ],
   "source": [
    "ax = conversion_rate_by_total_pages_visited.plot(\n",
    "    grid=True,\n",
    "    figsize=(10, 7),\n",
    "    title='Conversion Rates by total_pages_visited')\n",
    "\n",
    "ax.set_xlabel('total_pages_visited')\n",
    "ax.set_ylabel('conversion rate (%)')\n",
    "\n",
    "plt.show()"
   ]
  },
  {
   "cell_type": "markdown",
   "metadata": {},
   "source": [
    "Most conversion rates seem to be from people who have visited more number of pages"
   ]
  },
  {
   "cell_type": "markdown",
   "metadata": {},
   "source": [
    "#### viii. Correlation:"
   ]
  },
  {
   "cell_type": "code",
   "execution_count": 35,
   "metadata": {},
   "outputs": [
    {
     "data": {
      "image/png": "[encoded data removed]",
      "text/plain": [
       "<Figure size 432x288 with 2 Axes>"
      ]
     },
     "metadata": {
      "needs_background": "light"
     },
     "output_type": "display_data"
    }
   ],
   "source": [
    "#Let's check correlation\n",
    "corrMatrix = cd.corr()\n",
    "sns.heatmap(corrMatrix, annot=True)\n",
    "plt.show()\n",
    "\n",
    "#Ignoring converted and new_user. Very less correlation among age and total_pages_visited"
   ]
  },
  {
   "cell_type": "markdown",
   "metadata": {},
   "source": [
    "#### Not much correlation among variables which is a good thing"
   ]
  },
  {
   "cell_type": "markdown",
   "metadata": {},
   "source": [
    "### Step 5: Creating Dummy Variables for Categorical columns: Country, Ads"
   ]
  },
  {
   "cell_type": "code",
   "execution_count": 36,
   "metadata": {},
   "outputs": [
    {
     "data": {
      "text/html": [
       "<div>\n",
       "<style scoped>\n",
       "    .dataframe tbody tr th:only-of-type {\n",
       "        vertical-align: middle;\n",
       "    }\n",
       "\n",
       "    .dataframe tbody tr th {\n",
       "        vertical-align: top;\n",
       "    }\n",
       "\n",
       "    .dataframe thead th {\n",
       "        text-align: right;\n",
       "    }\n",
       "</style>\n",
       "<table border=\"1\" class=\"dataframe\">\n",
       "  <thead>\n",
       "    <tr style=\"text-align: right;\">\n",
       "      <th></th>\n",
       "      <th>country</th>\n",
       "      <th>age</th>\n",
       "      <th>new_user</th>\n",
       "      <th>source</th>\n",
       "      <th>total_pages_visited</th>\n",
       "      <th>converted</th>\n",
       "      <th>Germany</th>\n",
       "      <th>UK</th>\n",
       "      <th>US</th>\n",
       "      <th>Ads</th>\n",
       "      <th>Direct</th>\n",
       "      <th>Seo</th>\n",
       "    </tr>\n",
       "  </thead>\n",
       "  <tbody>\n",
       "    <tr>\n",
       "      <th>0</th>\n",
       "      <td>UK</td>\n",
       "      <td>25.0</td>\n",
       "      <td>1</td>\n",
       "      <td>Ads</td>\n",
       "      <td>1.0</td>\n",
       "      <td>0</td>\n",
       "      <td>0</td>\n",
       "      <td>1</td>\n",
       "      <td>0</td>\n",
       "      <td>1</td>\n",
       "      <td>0</td>\n",
       "      <td>0</td>\n",
       "    </tr>\n",
       "    <tr>\n",
       "      <th>1</th>\n",
       "      <td>US</td>\n",
       "      <td>23.0</td>\n",
       "      <td>1</td>\n",
       "      <td>Seo</td>\n",
       "      <td>5.0</td>\n",
       "      <td>0</td>\n",
       "      <td>0</td>\n",
       "      <td>0</td>\n",
       "      <td>1</td>\n",
       "      <td>0</td>\n",
       "      <td>0</td>\n",
       "      <td>1</td>\n",
       "    </tr>\n",
       "    <tr>\n",
       "      <th>2</th>\n",
       "      <td>US</td>\n",
       "      <td>28.0</td>\n",
       "      <td>1</td>\n",
       "      <td>Seo</td>\n",
       "      <td>4.0</td>\n",
       "      <td>0</td>\n",
       "      <td>0</td>\n",
       "      <td>0</td>\n",
       "      <td>1</td>\n",
       "      <td>0</td>\n",
       "      <td>0</td>\n",
       "      <td>1</td>\n",
       "    </tr>\n",
       "    <tr>\n",
       "      <th>3</th>\n",
       "      <td>China</td>\n",
       "      <td>39.0</td>\n",
       "      <td>1</td>\n",
       "      <td>Seo</td>\n",
       "      <td>5.0</td>\n",
       "      <td>0</td>\n",
       "      <td>0</td>\n",
       "      <td>0</td>\n",
       "      <td>0</td>\n",
       "      <td>0</td>\n",
       "      <td>0</td>\n",
       "      <td>1</td>\n",
       "    </tr>\n",
       "    <tr>\n",
       "      <th>4</th>\n",
       "      <td>US</td>\n",
       "      <td>30.0</td>\n",
       "      <td>1</td>\n",
       "      <td>Seo</td>\n",
       "      <td>6.0</td>\n",
       "      <td>0</td>\n",
       "      <td>0</td>\n",
       "      <td>0</td>\n",
       "      <td>1</td>\n",
       "      <td>0</td>\n",
       "      <td>0</td>\n",
       "      <td>1</td>\n",
       "    </tr>\n",
       "  </tbody>\n",
       "</table>\n",
       "</div>"
      ],
      "text/plain": [
       "  country   age  new_user source  total_pages_visited  converted  Germany  UK  \\\n",
       "0      UK  25.0         1    Ads                  1.0          0        0   1   \n",
       "1      US  23.0         1    Seo                  5.0          0        0   0   \n",
       "2      US  28.0         1    Seo                  4.0          0        0   0   \n",
       "3   China  39.0         1    Seo                  5.0          0        0   0   \n",
       "4      US  30.0         1    Seo                  6.0          0        0   0   \n",
       "\n",
       "   US  Ads  Direct  Seo  \n",
       "0   0    1       0    0  \n",
       "1   1    0       0    1  \n",
       "2   1    0       0    1  \n",
       "3   0    0       0    1  \n",
       "4   1    0       0    1  "
      ]
     },
     "execution_count": 36,
     "metadata": {},
     "output_type": "execute_result"
    }
   ],
   "source": [
    "#Let's Create Dummy Variables\n",
    "\n",
    "#For Country:\n",
    "\n",
    "CountryDummy = pd.get_dummies(cd.country)\n",
    "#CountryDummy\n",
    "del CountryDummy['China']\n",
    "cd = pd.concat([cd,CountryDummy],axis = 1)\n",
    "\n",
    "#For Source:\n",
    "\n",
    "SourceDummy = pd.get_dummies(cd.source)\n",
    "#del SourceDummy['Ads']\n",
    "cd = pd.concat([cd,SourceDummy],axis = 1)\n",
    "\n",
    "del cd['age_group']\n",
    "\n",
    "\n",
    "cd.head()"
   ]
  },
  {
   "cell_type": "markdown",
   "metadata": {},
   "source": [
    "## Question 1: Predict Conversion Rate"
   ]
  },
  {
   "cell_type": "markdown",
   "metadata": {},
   "source": [
    "#### Assinging X and Y variables:"
   ]
  },
  {
   "cell_type": "code",
   "execution_count": 37,
   "metadata": {},
   "outputs": [],
   "source": [
    "y = cd['converted']\n",
    "X =  cd[['new_user','age','total_pages_visited','Germany','UK','US','Direct','Seo']]\n"
   ]
  },
  {
   "cell_type": "markdown",
   "metadata": {},
   "source": [
    "#### Splitting the data into test and train:"
   ]
  },
  {
   "cell_type": "code",
   "execution_count": 38,
   "metadata": {},
   "outputs": [],
   "source": [
    "# implementing train-test-split\n",
    "X_train, X_test, y_train, y_test = train_test_split(X, y, test_size=0.33, random_state=66)"
   ]
  },
  {
   "cell_type": "markdown",
   "metadata": {},
   "source": [
    "#### Using Random Forest Classifier to predict coversion rate\n",
    "\n",
    "#### To find the best max features \n"
   ]
  },
  {
   "cell_type": "code",
   "execution_count": 39,
   "metadata": {},
   "outputs": [
    {
     "data": {
      "image/png": "[encoded data removed]",
      "text/plain": [
       "<Figure size 432x288 with 1 Axes>"
      ]
     },
     "metadata": {
      "needs_background": "light"
     },
     "output_type": "display_data"
    }
   ],
   "source": [
    "Features = range(1,9)\n",
    "oob_score_RF = []\n",
    "for i in Features:\n",
    "        RFClass = RandomForestClassifier(n_estimators = 500, #Number of trees\n",
    "                           max_features = i,     #How many features to randomly choose in each node \n",
    "                           min_samples_leaf = 5, #Minimum number of observations at each terminal node\n",
    "                           oob_score = True,\n",
    "                           random_state = 24,\n",
    "                           n_jobs = -1)\n",
    "        RFClass.fit(X_train,y_train)  \n",
    "        oob_score_RF.append(RFClass.oob_score_)\n",
    "\n",
    "plt.plot(Features, oob_score_RF)\n",
    "plt.xlabel(\"Number of Features\")\n",
    "plt.ylabel(\"Out of Bag Accuracy\")\n",
    "plt.show() "
   ]
  },
  {
   "cell_type": "code",
   "execution_count": 40,
   "metadata": {},
   "outputs": [
    {
     "name": "stdout",
     "output_type": "stream",
     "text": [
      "Best max_features is:  3\n"
     ]
    }
   ],
   "source": [
    "Best_Max_Features_Random_Forest_Classifier = Features[np.argmax(oob_score_RF)]\n",
    "print(\"Best max_features is: \",Best_Max_Features_Random_Forest_Classifier)"
   ]
  },
  {
   "cell_type": "markdown",
   "metadata": {},
   "source": [
    "#### Running the Random Forest Classifier on the best max features found"
   ]
  },
  {
   "cell_type": "code",
   "execution_count": 41,
   "metadata": {},
   "outputs": [
    {
     "name": "stdout",
     "output_type": "stream",
     "text": [
      "Best max_features is:  3\n",
      "Out of Bag Accuracy  = 0.971830 \n"
     ]
    }
   ],
   "source": [
    "from sklearn.ensemble import RandomForestClassifier\n",
    "\n",
    "RFClass = RandomForestClassifier(n_estimators = 500, \n",
    "                                 max_features = Best_Max_Features_Random_Forest_Classifier,\n",
    "                                 min_samples_leaf = 5,\n",
    "                                 oob_score = True,\n",
    "                                 random_state = 24,\n",
    "                                 n_jobs = -1)\n",
    "RFClass.fit(X_train, y_train)\n",
    "print(\"Best max_features is: \",Best_Max_Features_Random_Forest_Classifier)\n",
    "print(\"Out of Bag Accuracy  = %f \" %RFClass.oob_score_)\n"
   ]
  },
  {
   "cell_type": "code",
   "execution_count": 42,
   "metadata": {},
   "outputs": [],
   "source": [
    "scores = cross_val_score(RFClass, X_train, y_train, cv = 10)\n"
   ]
  },
  {
   "cell_type": "code",
   "execution_count": 43,
   "metadata": {},
   "outputs": [
    {
     "name": "stdout",
     "output_type": "stream",
     "text": [
      "Cross-validation Accuracy = 0.972000\n",
      "Misclassification Error = 0.028000\n"
     ]
    }
   ],
   "source": [
    "print(\"Cross-validation Accuracy = %f\" %scores.mean())\n",
    "Misclassification_Error = 1-scores.mean()\n",
    "print(\"Misclassification Error = %f\" %Misclassification_Error)"
   ]
  },
  {
   "cell_type": "markdown",
   "metadata": {},
   "source": [
    "#### Predicting the Y values on the test data:"
   ]
  },
  {
   "cell_type": "code",
   "execution_count": 44,
   "metadata": {},
   "outputs": [
    {
     "name": "stdout",
     "output_type": "stream",
     "text": [
      "[0 0 0 ... 0 0 0]\n"
     ]
    }
   ],
   "source": [
    "# You can call predict the same way we called predict to any other algorithm we used before\n",
    "y_hat = RFClass.predict(X_test)\n",
    "print(y_hat)\n"
   ]
  },
  {
   "cell_type": "markdown",
   "metadata": {},
   "source": [
    "#### Confusion Matrix to check our results"
   ]
  },
  {
   "cell_type": "code",
   "execution_count": 45,
   "metadata": {},
   "outputs": [
    {
     "name": "stdout",
     "output_type": "stream",
     "text": [
      "Results from the Random Forest Classifier:\n",
      "\n"
     ]
    },
    {
     "data": {
      "text/plain": [
       "array([[100073,    915],\n",
       "       [  1984,   1374]], dtype=int64)"
      ]
     },
     "execution_count": 45,
     "metadata": {},
     "output_type": "execute_result"
    }
   ],
   "source": [
    "#Prediction confusion matrix:\n",
    "print(\"Results from the Random Forest Classifier:\\n\")\n",
    "cf_matrix = confusion_matrix(y_test, y_hat)\n",
    "cf_matrix"
   ]
  },
  {
   "cell_type": "code",
   "execution_count": 46,
   "metadata": {},
   "outputs": [],
   "source": [
    "TN = cf_matrix[0,0] #True Negative\n",
    "FN = cf_matrix[1,0] #False Negative\n",
    "FP = cf_matrix[0,1] #False Positive\n",
    "TP = cf_matrix[1,1] #True Positive"
   ]
  },
  {
   "cell_type": "code",
   "execution_count": 47,
   "metadata": {},
   "outputs": [
    {
     "name": "stdout",
     "output_type": "stream",
     "text": [
      "False Positive Rate = 0.009060 \n",
      "False Negative Rate = 0.590828 \n",
      "True Positive Rate = 0.409172 \n",
      "True Negative Rate = 0.990940 \n",
      "Misclassification Error = 0.027783 \n",
      "Accuracy = 0.972217 \n"
     ]
    }
   ],
   "source": [
    "Err = float(FP + FN)/(FP + FN + TP + TN) #Prediction Error\n",
    "Acc = float(TP + TN)/(FP + FN + TP + TN) #Prediction Accuracy\n",
    "FPR = float(FP)/(FP + TN)  #False Positive Rate\n",
    "TNR = float(TN)/(FP + TN)  #True Negative Rate\n",
    "TPR = float(TP)/(FN + TP)  #True Positive Rate\n",
    "FNR = float(FN)/(FN + TP)  #False Negative Rate\n",
    "print(\"False Positive Rate = %f \" %FPR)\n",
    "print(\"False Negative Rate = %f \" %FNR)\n",
    "print(\"True Positive Rate = %f \" %TPR)\n",
    "print(\"True Negative Rate = %f \" %TNR)\n",
    "print(\"Misclassification Error = %f \" %Err)\n",
    "print(\"Accuracy = %f \" %Acc)"
   ]
  },
  {
   "cell_type": "code",
   "execution_count": 48,
   "metadata": {},
   "outputs": [
    {
     "data": {
      "image/png": "[encoded data removed]",
      "text/plain": [
       "<Figure size 432x288 with 2 Axes>"
      ]
     },
     "metadata": {
      "needs_background": "light"
     },
     "output_type": "display_data"
    }
   ],
   "source": [
    "group_names = ['True Neg','False Pos','False Neg','True Pos']\n",
    "cf_matrix_value = [TNR,FPR,FNR,TPR]\n",
    "\n",
    "group_counts = [\"{0:0.0f}\".format(value) for value in\n",
    "                cf_matrix.flatten()]\n",
    "\n",
    "group_percentages = [\"{0:.2%}\".format(value) for value in\n",
    "                     cf_matrix_value]\n",
    "\n",
    "labels = [f\"{v1}\\n{v2}\\n{v3}\" for v1, v2, v3 in\n",
    "          zip(group_names,group_counts,group_percentages)]\n",
    "\n",
    "labels = np.asarray(labels).reshape(2,2)\n",
    "\n",
    "ax = sns.heatmap(cf_matrix, annot=labels, fmt='', cmap='Blues')\n",
    "\n",
    "ax.set_title('Confusion matrix of Predicted Converted using Random Forest Classifier \\n\\n');\n",
    "ax.set_xlabel('\\nPredicted Values')\n",
    "ax.set_ylabel('Actual Values ');\n",
    "\n",
    "## Ticket labels - List must be in alphabetical order\n",
    "ax.xaxis.set_ticklabels(['False','True'])\n",
    "ax.yaxis.set_ticklabels(['False','True'])\n",
    "\n",
    "## Display the visualization of the Confusion Matrix.\n",
    "plt.show()"
   ]
  },
  {
   "cell_type": "markdown",
   "metadata": {},
   "source": [
    "#### Question 1 Result:"
   ]
  },
  {
   "cell_type": "code",
   "execution_count": 49,
   "metadata": {},
   "outputs": [
    {
     "name": "stdout",
     "output_type": "stream",
     "text": [
      "Predicted Conversion Rate: 2.19%\n"
     ]
    }
   ],
   "source": [
    "# Predict the full conversion rate\n",
    "predicted_conversion_rate = y_hat.sum() / len(y_hat)\n",
    "\n",
    "# print the final result\n",
    "print ('Predicted Conversion Rate: {:.2f}%'.format(predicted_conversion_rate * 100))"
   ]
  },
  {
   "cell_type": "markdown",
   "metadata": {},
   "source": [
    "### Question 2: Come up with recommendations for the product team and the marketing team to improve conversion rate"
   ]
  },
  {
   "cell_type": "markdown",
   "metadata": {},
   "source": [
    "#### Using Decision Tree Classifier for interpretation"
   ]
  },
  {
   "cell_type": "code",
   "execution_count": 50,
   "metadata": {},
   "outputs": [
    {
     "data": {
      "image/png": "[encoded data removed]",
      "text/plain": [
       "<Figure size 432x288 with 1 Axes>"
      ]
     },
     "metadata": {
      "needs_background": "light"
     },
     "output_type": "display_data"
    }
   ],
   "source": [
    "#Tuning max depth for the tree\n",
    "Maximum_Depth = range(1,50)\n",
    "score = []\n",
    "for i in Maximum_Depth:\n",
    "    TreeClass = DecisionTreeClassifier(max_depth = i, \n",
    "                                       min_samples_leaf = 5, \n",
    "                                       random_state = 24)\n",
    "    score.append((cross_val_score(TreeClass, X_train, y_train, cv=10, scoring = 'accuracy')).mean())\n",
    "\n",
    "plt.plot(Maximum_Depth, score)\n",
    "plt.xlabel(\"Depth\")\n",
    "plt.ylabel(\"CV Accuracy\")\n",
    "plt.show()"
   ]
  },
  {
   "cell_type": "code",
   "execution_count": 51,
   "metadata": {},
   "outputs": [
    {
     "name": "stdout",
     "output_type": "stream",
     "text": [
      "The best option for maximum depth is 6 which results in accuracy = 0.972415\n"
     ]
    }
   ],
   "source": [
    "CV_MSE_Max = np.argmax(score)\n",
    "Maximum_Depth = Maximum_Depth[CV_MSE_Max]\n",
    "\n",
    "print(\"The best option for maximum depth is %i which results in accuracy = %f\" %(Maximum_Depth, np.max(score)))"
   ]
  },
  {
   "cell_type": "markdown",
   "metadata": {},
   "source": [
    "#### Running the Decision Tree Classifier with the Maximum Depth of the tree:"
   ]
  },
  {
   "cell_type": "code",
   "execution_count": 52,
   "metadata": {},
   "outputs": [
    {
     "data": {
      "text/html": [
       "<div>\n",
       "<style scoped>\n",
       "    .dataframe tbody tr th:only-of-type {\n",
       "        vertical-align: middle;\n",
       "    }\n",
       "\n",
       "    .dataframe tbody tr th {\n",
       "        vertical-align: top;\n",
       "    }\n",
       "\n",
       "    .dataframe thead th {\n",
       "        text-align: right;\n",
       "    }\n",
       "</style>\n",
       "<table border=\"1\" class=\"dataframe\">\n",
       "  <thead>\n",
       "    <tr style=\"text-align: right;\">\n",
       "      <th></th>\n",
       "      <th>feature</th>\n",
       "      <th>importance</th>\n",
       "    </tr>\n",
       "  </thead>\n",
       "  <tbody>\n",
       "    <tr>\n",
       "      <th>2</th>\n",
       "      <td>total_pages_visited</td>\n",
       "      <td>0.533171</td>\n",
       "    </tr>\n",
       "    <tr>\n",
       "      <th>0</th>\n",
       "      <td>new_user</td>\n",
       "      <td>0.235979</td>\n",
       "    </tr>\n",
       "    <tr>\n",
       "      <th>1</th>\n",
       "      <td>age</td>\n",
       "      <td>0.087890</td>\n",
       "    </tr>\n",
       "    <tr>\n",
       "      <th>3</th>\n",
       "      <td>Germany</td>\n",
       "      <td>0.060780</td>\n",
       "    </tr>\n",
       "    <tr>\n",
       "      <th>5</th>\n",
       "      <td>US</td>\n",
       "      <td>0.054935</td>\n",
       "    </tr>\n",
       "    <tr>\n",
       "      <th>4</th>\n",
       "      <td>UK</td>\n",
       "      <td>0.026384</td>\n",
       "    </tr>\n",
       "    <tr>\n",
       "      <th>6</th>\n",
       "      <td>Direct</td>\n",
       "      <td>0.000855</td>\n",
       "    </tr>\n",
       "    <tr>\n",
       "      <th>7</th>\n",
       "      <td>Seo</td>\n",
       "      <td>0.000006</td>\n",
       "    </tr>\n",
       "  </tbody>\n",
       "</table>\n",
       "</div>"
      ],
      "text/plain": [
       "               feature  importance\n",
       "2  total_pages_visited    0.533171\n",
       "0             new_user    0.235979\n",
       "1                  age    0.087890\n",
       "3              Germany    0.060780\n",
       "5                   US    0.054935\n",
       "4                   UK    0.026384\n",
       "6               Direct    0.000855\n",
       "7                  Seo    0.000006"
      ]
     },
     "execution_count": 52,
     "metadata": {},
     "output_type": "execute_result"
    }
   ],
   "source": [
    "#Feature Importance\n",
    "TreeClass = DecisionTreeClassifier(\n",
    "                max_depth = Maximum_Depth,\n",
    "                min_samples_leaf = 5,\n",
    "                random_state = 24)\n",
    "\n",
    "TreeClass.fit(X_train,y_train)\n",
    "\n",
    "ImportanceDataFrame1 = pd.DataFrame({'feature':X.columns.values, 'importance':TreeClass.feature_importances_})\n",
    "ImportanceDataFrame1.sort_values(by = ['importance'], ascending = 0)"
   ]
  },
  {
   "cell_type": "code",
   "execution_count": 53,
   "metadata": {},
   "outputs": [
    {
     "data": {
      "image/png": "[encoded data removed]",
      "text/plain": [
       "<Figure size 720x432 with 1 Axes>"
      ]
     },
     "metadata": {
      "needs_background": "light"
     },
     "output_type": "display_data"
    }
   ],
   "source": [
    "# Display a horizontal barplot with the feature importances\n",
    "plt.figure(figsize=(10,6))\n",
    "#df_sorted = df.sort_values('marks')\n",
    "sns.barplot(y=ImportanceDataFrame1['importance']\n",
    "            , x=ImportanceDataFrame1['feature'],\n",
    "            color='#7eb54e', \n",
    "           order=ImportanceDataFrame1.sort_values('importance').feature)\n",
    "\n",
    "plt.xlabel(\"Importance\", size=15)\n",
    "plt.ylabel(\"Features\", size=15)\n",
    "plt.title(\"Feature Importance from Decision Tree Classifier\", size=18)\n",
    "plt.tight_layout()"
   ]
  },
  {
   "cell_type": "markdown",
   "metadata": {},
   "source": [
    "Total_pages_visited is the most important feature followed by new_user, age, Country, Source"
   ]
  },
  {
   "cell_type": "markdown",
   "metadata": {},
   "source": [
    "#### Recommendations for the product team:"
   ]
  },
  {
   "cell_type": "markdown",
   "metadata": {},
   "source": [
    "##### Total_Pages_Visited:\n",
    "If an user has visited many pages and hasn’t converted yet then we should influence them to convert.The longer the user browses, the more likely he/she will convert and buy something. \n",
    "\n",
    "##### New_User:\n",
    "\n",
    "Older accounts have a better conversion rate. The product team can target the new users with promotional emails and advertising campaigns to improve conversion rates\n",
    "\n",
    "##### Age:\n",
    "\n",
    "Younger users have more conversion rate than older users. Steps must be taken to target younger audience more so the conversion rate keeps increasing\n",
    "\n",
    "##### Country:\n",
    "    \n",
    "Users from China have very poor conversion rate. The team must do better to target users from China with more contant and features useful to them. Since China has a large population, the site should try to focus on increasing the number of Chinese visitors\n",
    "\n",
    "\n",
    "##### Source:\n",
    "Source is not a good factor as it's importance was very close to 0. No recommendations for source of marketing"
   ]
  },
  {
   "cell_type": "code",
   "execution_count": null,
   "metadata": {},
   "outputs": [],
   "source": []
  }
 ],
 "metadata": {
  "kernelspec": {
   "display_name": "Python 3",
   "language": "python",
   "name": "python3"
  },
  "language_info": {
   "codemirror_mode": {
    "name": "ipython",
    "version": 3
   },
   "file_extension": ".py",
   "mimetype": "text/x-python",
   "name": "python",
   "nbconvert_exporter": "python",
   "pygments_lexer": "ipython3",
   "version": "3.8.3"
  }
 },
 "nbformat": 4,
 "nbformat_minor": 4
}
